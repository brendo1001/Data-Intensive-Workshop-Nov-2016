{
 "cells": [
  {
   "cell_type": "markdown",
   "metadata": {
    "collapsed": true
   },
   "source": [
    "<img src=\"http://nci.org.au/wp-content/themes/nci/img/img-logo-large.png\", width=400>\n",
    "\n",
    "-------\n",
    "# Data Performance: Serial IO \n",
    "\n",
    "\n",
    "-----\n",
    "\n",
    "### In this notebook:\n",
    "\n",
    "<p>In this workshop we will explore the performance of accessing NetCDF4/HDF5 files by using NetCDF4-python and h5py modules. Several IO performance relating parameters, such as access pattern, storage layout, compression and shuffle etc. will be examined for serial IO.</p>\n",
    "\n",
    "The NetCDF architecture is shown below:\n",
    "\n",
    "<img src=\"images/netcdf_architecture.png\" alt=\"Drawing\" style=\"width: 600px;\">\n",
    "\n",
    "NetCDF4/HDF5 have many features like:\n",
    "- Unique technology suite that makes possible the management of extremely large and complex data collections\n",
    "- Unlimited size, extensibility, and portability\n",
    "- General data model\n",
    "- Unlimited variety of datatypes\n",
    "- Flexible, efficient I/O\n",
    "- Flexible data storage\n",
    "- Data transformation and complex subsetting\n",
    "\n",
    "\n",
    "#### The following material uses Geoscience Australia's Landsat 7 Data Collection which is available under the Create Commons License 4.0 through NCI's THREDDS Data Server. For more information on the collection and licensing, please [click here](http://geonetwork.nci.org.au/geonetwork/srv/eng/catalog.search#/metadata/f6600_8228_7170_1486). \n",
    "\n",
    "---------\n",
    "\n",
    "<br>\n",
    "\n"
   ]
  },
  {
   "cell_type": "markdown",
   "metadata": {},
   "source": [
    "## Prerequisites\n",
    "\n",
    "#### Please load the following modules:\n",
    "\n",
    "```\n",
    "module load python/2.7.11\n",
    "module load python/2.7.11-matplotlib\n",
    "module load ipython/4.2.0-py2.7\n",
    "module load netcdf4-python/1.2.4-py2.7\n",
    "\n",
    "```\n",
    "\n",
    "#### Then launch a new iPython (or Jupyter) notebook: \n",
    "\n",
    "`$ ipython notebook`\n",
    "\n",
    "\n",
    "<br>"
   ]
  },
  {
   "cell_type": "markdown",
   "metadata": {},
   "source": [
    "## Load necessary python modules"
   ]
  },
  {
   "cell_type": "code",
   "execution_count": null,
   "metadata": {
    "collapsed": false
   },
   "outputs": [],
   "source": [
    "from netCDF4 import Dataset\n",
    "import numpy as np\n",
    "import os\n",
    "from tempfile import *\n",
    "import matplotlib.pyplot as plt\n",
    "import matplotlib.image as mpimg\n",
    "import time\n",
    "global tmp_file"
   ]
  },
  {
   "cell_type": "markdown",
   "metadata": {},
   "source": [
    "## Useful Functions"
   ]
  },
  {
   "cell_type": "markdown",
   "metadata": {},
   "source": [
    "#### Function view_prt : View the metadata of a variable named \"varname\" of a file named \"filename\""
   ]
  },
  {
   "cell_type": "code",
   "execution_count": null,
   "metadata": {
    "collapsed": false
   },
   "outputs": [],
   "source": [
    "def view_prt(filename,varname='all'):\n",
    "    f=Dataset(filename,'r')                      # Open the file named 'filename' for read\n",
    "    print 'File Name: \\t',filename               # Print the file name \n",
    "    print 'Format: \\t',f.data_model              # Print the file format\n",
    "\n",
    "    for item in f.dimensions:                    # Print all dimensions\n",
    "        print 'dimension \\t',f.dimensions[item].name, f.dimensions[item].size\n",
    "    print '    '\n",
    "\n",
    "    vars = f.variables.keys()\n",
    "    for item in vars:\n",
    "        if varname=='all' or item==varname:      # Print the selected metadata of all \n",
    "                                                 # variables or the variable named 'varname'\n",
    "            print 'Variable: \\t', item\n",
    "            print 'Dimensions: \\t', f[item].dimensions\n",
    "            print 'Shape:    \\t', f[item].shape\n",
    "            print \"size:  \\t\\t\", f[item].size\n",
    "            print \"data type:  \\t\", f[item].dtype\n",
    "            print \"chunksize: \\t\", f[item].chunking()\n",
    "            print \"tendian: \\t\", f[item].endian()\n",
    "            print \"filters: \\t\", f[item].filters()\n",
    "            print \"ncattrs: \\t\", f[item].ncattrs() \n",
    "            print \"\"\n",
    "    f.close()"
   ]
  },
  {
   "cell_type": "markdown",
   "metadata": {},
   "source": [
    "#### Function read_var: Read and return data of a NetCDF4 variable named \"varname\" in a file named \"filename\""
   ]
  },
  {
   "cell_type": "code",
   "execution_count": null,
   "metadata": {
    "collapsed": false
   },
   "outputs": [],
   "source": [
    "def read_var(filename,varname):\n",
    "    fr = Dataset(filename,'r',format='NETCDF4')\n",
    "    out=fr[varname][:]\n",
    "    fr.close()\n",
    "    return out"
   ]
  },
  {
   "cell_type": "markdown",
   "metadata": {},
   "source": [
    "#### Function link_var: Link a variable named \"varname\" in a file named \"filename\". No actual data movement."
   ]
  },
  {
   "cell_type": "code",
   "execution_count": null,
   "metadata": {
    "collapsed": true
   },
   "outputs": [],
   "source": [
    "def link_var(filename,varname):\n",
    "    fr = Dataset(filename,'r',format='NETCDF4')\n",
    "    return fr[varname]"
   ]
  },
  {
   "cell_type": "markdown",
   "metadata": {},
   "source": [
    "#### Function create_file: Create a NetCDF4 files with 3 dimensions and a 3D variable named \"varname\" containing the data of 'val' array.\n",
    "Dimensions are used to define the shape of data in netCDF."
   ]
  },
  {
   "cell_type": "code",
   "execution_count": null,
   "metadata": {
    "collapsed": false
   },
   "outputs": [],
   "source": [
    "def create_file(d1,d1_name,d2,d2_name,d3,d3_name,val,varname,**args):\n",
    "    global tmp_file \n",
    "    \n",
    "    try:  # remove any existing temporary files.\n",
    "        if os.path.exists(tmp_file.name):\n",
    "            tmp_file.close()\n",
    "            os.unlink(tmp_file.name)\n",
    "    except:\n",
    "        print \" \"\n",
    "\n",
    "    tmp_file = NamedTemporaryFile(delete=False) # Create the temporary file object.\n",
    "    fname=tmp_file.name                         # Get the temporary file name. \n",
    "\n",
    "    fw = Dataset(fname,'w',format='NETCDF4')    # Open the NetCDF file to write\n",
    "    \n",
    "    fw.createDimension(d1_name,len(d1))                 # Create the one-dimension named 'd1_name' \n",
    "                                                        # in the length of 'd1' array.\n",
    "    dim_wrt=fw.createVariable(d1_name,d1.dtype,d1_name) # Create a 1D variable named 'd1_name' \n",
    "                                                        # with the data type of array 'd1' \n",
    "                                                        # and its dimension is 'd1_name'\n",
    "    dim_wrt[:]=d1                                       # Write 'd1' data to dimension 'd1_name'\n",
    "\n",
    "    \n",
    "    \n",
    "    fw.createDimension(d2_name,len(d2))                 # Create the one-dimension named 'd2_name'\n",
    "                                                        # in the length of 'd2' array.\n",
    "    dim_wrt=fw.createVariable(d2_name,d2.dtype,d2_name) # Create one-dimension variable named 'd2_name' \n",
    "                                                        # with the data type of array 'd2'\n",
    "                                                        # and its dimension is 'd2_name'\n",
    "    dim_wrt[:]=d2                                       # Write the 'd2' data to dimension 'd2_name'\n",
    "\n",
    "\n",
    "    fw.createDimension(d3_name,len(d3))                 # Create the one-dimension named 'd3_name'\n",
    "                                                        # in the length of 'd3' array.\n",
    "    dim_wrt=fw.createVariable(d3_name,d3.dtype,d3_name) # Create one-dimension variable named 'd3_name' \n",
    "                                                        # with the data type of array 'd3'\n",
    "                                                        # and its dimension is 'd3_name'\n",
    "    dim_wrt[:]=d3                                       # Write the 'd3' data to dimension 'd3_name'\n",
    "    \n",
    "\n",
    "    var_wrt=fw.createVariable(\n",
    "        varname,val.dtype,(d1_name,d2_name,d3_name),**args) # Create one-dimension variable named 'varname' \n",
    "                                                            # with the data type of array 'val' along\n",
    "                                                            # 3 dimensions of 'd1_name, d2_name, d3_name'\n",
    "    var_wrt[:]=val                                          # write the 'val' data to the variable 'varname'\n",
    "    \n",
    "    fw.close()                       # Close the file\n",
    "    return tmp_file"
   ]
  },
  {
   "cell_type": "markdown",
   "metadata": {},
   "source": [
    "#### Produce example data source of t, x, y and data array"
   ]
  },
  {
   "cell_type": "code",
   "execution_count": null,
   "metadata": {
    "collapsed": false
   },
   "outputs": [],
   "source": [
    "def get_data_src(nt=100,ny=100,nx=100):\n",
    "    t = np.random.uniform(-1, 1, size=nt)\n",
    "    y = np.random.uniform(-1, 1, size=ny)\n",
    "    x= np.random.uniform(-1, 1, size=nx)\n",
    "    data=np.random.uniform(-1, 1, size=nt*ny*nx)\n",
    "    return t,y,x,data"
   ]
  },
  {
   "cell_type": "markdown",
   "metadata": {},
   "source": [
    "## Remote vs. Local Access\n",
    "\n",
    "For local files, this will be the filepath (i.e., /g/data...) while for remote access, this will be the OPeNDAP data URL."
   ]
  },
  {
   "cell_type": "code",
   "execution_count": null,
   "metadata": {
    "collapsed": false
   },
   "outputs": [],
   "source": [
    "%%time\n",
    "filename='http://dapds00.nci.org.au/thredds/dodsC/uc0/rs0_dev/multiple_band_variables/LS7_ETM_NBAR_P54_GANBAR01-002_089_078_2015_152_-26.nc'\n",
    "varname='band1'\n",
    "band=read_var(filename,varname)"
   ]
  },
  {
   "cell_type": "code",
   "execution_count": null,
   "metadata": {
    "collapsed": false
   },
   "outputs": [],
   "source": [
    "%%time\n",
    "filename='/g/data2/uc0/rs0_dev/multiple_band_variables/LS7_ETM_NBAR_P54_GANBAR01-002_089_078_2015_152_-26.nc'\n",
    "vaname='band1'\n",
    "band=read_var(filename,varname)"
   ]
  },
  {
   "cell_type": "markdown",
   "metadata": {},
   "source": [
    "## Local Access Performance"
   ]
  },
  {
   "cell_type": "markdown",
   "metadata": {},
   "source": [
    "### Contiguous storage layout"
   ]
  },
  {
   "cell_type": "markdown",
   "metadata": {},
   "source": [
    "All the elements of multi-dimensional array are stored one after another, e.g. contiguous storage. The default storage layout for most file format is contiguous layout. Python and C use row-major ordering,that is, the 'fastest-varying' index is the last dimension."
   ]
  },
  {
   "cell_type": "markdown",
   "metadata": {},
   "source": [
    "<img src=\"images/tutr-lodset.png\" alt=\"Drawing\" style=\"width: 600px;\"/>|"
   ]
  },
  {
   "cell_type": "markdown",
   "metadata": {},
   "source": [
    "### Access Pattern\n",
    "The IO performance relies on the coordination beteween the access pattern and the storage layout of the file. The 'locality' rule of access is that reads are generally faster when the data being accessed is all stored together."
   ]
  },
  {
   "cell_type": "markdown",
   "metadata": {},
   "source": [
    "<img src=\"images/fig1.png\" alt=\"Drawing\" style=\"width: 600px;\"/>"
   ]
  },
  {
   "cell_type": "markdown",
   "metadata": {},
   "source": [
    "For 3D array, the contiguous data layout will store the data along x, y and t dimension respectively. Thus the 'spatial access' as above will be contiguous IO and the 'time series accesss' is non-contiguous IO will much more IO opeartions like seek, read, write etc. Let's firstly check the IO performance of above two access patterns on the contiguous storage layout."
   ]
  },
  {
   "cell_type": "markdown",
   "metadata": {},
   "source": [
    "#### Created example data source in 3D array in the size of (2000,100,100) along (t,y,x)"
   ]
  },
  {
   "cell_type": "code",
   "execution_count": null,
   "metadata": {
    "collapsed": false
   },
   "outputs": [],
   "source": [
    "t,y,x,src_data=get_data_src(nt=2000,ny=100,nx=100)"
   ]
  },
  {
   "cell_type": "markdown",
   "metadata": {},
   "source": [
    "#### TYX: Create contiguous storage layout in a temporary file."
   ]
  },
  {
   "cell_type": "markdown",
   "metadata": {},
   "source": [
    "<p> With a conventional contiguous (index-order) storage layout, the time dimension varies most slowly, y varies faster, and x varies fastest. In this case, the spatial access is contiguous IO and the time series access is non-cpntiguous IO.</p>"
   ]
  },
  {
   "cell_type": "code",
   "execution_count": null,
   "metadata": {
    "collapsed": false,
    "scrolled": true
   },
   "outputs": [],
   "source": [
    "# Create a file with the 3D variable named 'band'\n",
    "f=create_file(t,'t',y,'y',x,'x',src_data,'band')\n",
    "print f.name"
   ]
  },
  {
   "cell_type": "code",
   "execution_count": null,
   "metadata": {
    "collapsed": false
   },
   "outputs": [],
   "source": [
    "view_prt(f.name,'band')"
   ]
  },
  {
   "cell_type": "code",
   "execution_count": null,
   "metadata": {
    "collapsed": false
   },
   "outputs": [],
   "source": [
    "# Print the metadata of 'band' variable in the above file.\n",
    "band=link_var(f.name,'band')"
   ]
  },
  {
   "cell_type": "markdown",
   "metadata": {},
   "source": [
    "#### TYX: Full variable access if we have large enough memory"
   ]
  },
  {
   "cell_type": "code",
   "execution_count": null,
   "metadata": {
    "collapsed": false,
    "scrolled": true
   },
   "outputs": [],
   "source": [
    "t_start = time.clock()\n",
    "band_subset = band[:,:,:]\n",
    "t_end = time.clock() \n",
    "print \"elapsed time is \",t_end-t_start,\"Sec.\""
   ]
  },
  {
   "cell_type": "markdown",
   "metadata": {},
   "source": [
    "#### TYX: Spatial Access to read all data "
   ]
  },
  {
   "cell_type": "markdown",
   "metadata": {},
   "source": [
    "Split the data into several 'read' operations and each operation reads 'transfer size' of data to match the memory requirement."
   ]
  },
  {
   "cell_type": "markdown",
   "metadata": {},
   "source": [
    "##### Transfer size: (T=1,Y=full,X=full)"
   ]
  },
  {
   "cell_type": "code",
   "execution_count": null,
   "metadata": {
    "collapsed": false
   },
   "outputs": [],
   "source": [
    "# Specify the transfer size along each dimension.\n",
    "tblk_size=1\n",
    "yblk_size=len(y)\n",
    "xblk_size=len(x)\n",
    "\n",
    "# Count the total number of accessing.\n",
    "access_num=0\n",
    "\n",
    "# Read the whole variable data in multiple read operations.\n",
    "t_start = time.clock() \n",
    "for it in range(len(t)/tblk_size):\n",
    "    itbeg=it*tblk_size\n",
    "    for iy in range(len(y)/yblk_size):\n",
    "        iybeg=iy*yblk_size\n",
    "        for ix in range(len(x)/xblk_size):\n",
    "            ixbeg=ix*xblk_size\n",
    "            band_subset = band[itbeg:itbeg+tblk_size,iybeg:iybeg+yblk_size,ixbeg:ixbeg+xblk_size]\n",
    "            access_num+=1\n",
    "t_end = time.clock() \n",
    "\n",
    "print \"elapsed time is \",(t_end-t_start),\"Sec.\"\n",
    "print \"access number is \",access_num"
   ]
  },
  {
   "cell_type": "markdown",
   "metadata": {},
   "source": [
    "##### Transfer size: (T=1,Y=10,X=full)"
   ]
  },
  {
   "cell_type": "code",
   "execution_count": null,
   "metadata": {
    "collapsed": false
   },
   "outputs": [],
   "source": [
    "# Specify the transfer size along each dimension.\n",
    "tblk_size=1\n",
    "yblk_size=10\n",
    "xblk_size=len(x)\n",
    "\n",
    "# Count the total number of accessing.\n",
    "access_num=0\n",
    "\n",
    "# Read the whole variable data in multiple read operations.\n",
    "t_start = time.clock() \n",
    "for it in range(len(t)/tblk_size):\n",
    "    itbeg=it*tblk_size\n",
    "    for iy in range(len(y)/yblk_size):\n",
    "        iybeg=iy*yblk_size\n",
    "        for ix in range(len(x)/xblk_size):\n",
    "            ixbeg=ix*xblk_size\n",
    "            band_subset = band[itbeg:itbeg+tblk_size,iybeg:iybeg+yblk_size,ixbeg:ixbeg+xblk_size]\n",
    "            access_num+=1\n",
    "t_end = time.clock() \n",
    "\n",
    "print \"elapsed time is \",(t_end-t_start),\"Sec.\"\n",
    "print \"access number is \",access_num"
   ]
  },
  {
   "cell_type": "markdown",
   "metadata": {},
   "source": [
    "##### Transfer size: (T=1,Y=full,X=10)"
   ]
  },
  {
   "cell_type": "code",
   "execution_count": null,
   "metadata": {
    "collapsed": false
   },
   "outputs": [],
   "source": [
    "# Specify the transfer size along each dimension.\n",
    "tblk_size=1\n",
    "yblk_size=len(y)\n",
    "xblk_size=10\n",
    "\n",
    "# Count the total number of accessing.\n",
    "access_num=0\n",
    "\n",
    "# Read the whole variable data in multiple read operations.\n",
    "t_start = time.clock() \n",
    "for it in range(len(t)/tblk_size):\n",
    "    itbeg=it*tblk_size\n",
    "    for iy in range(len(y)/yblk_size):\n",
    "        iybeg=iy*yblk_size\n",
    "        for ix in range(len(x)/xblk_size):\n",
    "            ixbeg=ix*xblk_size\n",
    "            band_subset = band[itbeg:itbeg+tblk_size,iybeg:iybeg+yblk_size,ixbeg:ixbeg+xblk_size]\n",
    "            access_num+=1\n",
    "t_end = time.clock() \n",
    "print \"elapsed time is \",(t_end-t_start),\"Sec.\"\n",
    "print \"access number is \",access_num"
   ]
  },
  {
   "cell_type": "markdown",
   "metadata": {},
   "source": [
    "##### Transfer size: (T=1,Y=50,X=10)"
   ]
  },
  {
   "cell_type": "code",
   "execution_count": null,
   "metadata": {
    "collapsed": false
   },
   "outputs": [],
   "source": [
    "# Specify the transfer size along each dimension.\n",
    "tblk_size=1\n",
    "yblk_size=50\n",
    "xblk_size=10\n",
    "\n",
    "# Count the total number of accessing.\n",
    "access_num=0\n",
    "\n",
    "# Read the whole variable data in multiple read operations.\n",
    "t_start = time.clock() \n",
    "for it in range(len(t)/tblk_size):\n",
    "    itbeg=it*tblk_size\n",
    "    for iy in range(len(y)/yblk_size):\n",
    "        iybeg=iy*yblk_size\n",
    "        for ix in range(len(x)/xblk_size):\n",
    "            ixbeg=ix*xblk_size\n",
    "            band_subset = band[itbeg:itbeg+tblk_size,iybeg:iybeg+yblk_size,ixbeg:ixbeg+xblk_size]\n",
    "            access_num+=1\n",
    "t_end = time.clock() \n",
    "print \"elapsed time is \",(t_end-t_start),\"Sec.\"\n",
    "print \"access number is \",access_num"
   ]
  },
  {
   "cell_type": "markdown",
   "metadata": {},
   "source": [
    "#### TYX:Time access to read all data"
   ]
  },
  {
   "cell_type": "markdown",
   "metadata": {},
   "source": [
    "##### Transfer size: (T=full,Y=10,X=10)"
   ]
  },
  {
   "cell_type": "code",
   "execution_count": null,
   "metadata": {
    "collapsed": false
   },
   "outputs": [],
   "source": [
    "# Specify the transfer size along each dimension.\n",
    "tblk_size=len(t)\n",
    "yblk_size=10\n",
    "xblk_size=10\n",
    "\n",
    "# Count the total number of accessing.\n",
    "access_num=0\n",
    "\n",
    "# Read the whole variable data in multiple read operations.\n",
    "t_start = time.clock() \n",
    "for it in range(len(t)/tblk_size):\n",
    "    itbeg=it*tblk_size\n",
    "    for iy in range(len(y)/yblk_size):\n",
    "        iybeg=iy*yblk_size\n",
    "        for ix in range(len(x)/xblk_size):\n",
    "            ixbeg=ix*xblk_size\n",
    "            band_subset = band[itbeg:itbeg+tblk_size,iybeg:iybeg+yblk_size,ixbeg:ixbeg+xblk_size]\n",
    "            access_num+=1\n",
    "t_end = time.clock() \n",
    "print \"elapsed time is \",(t_end-t_start),\"Sec.\"\n",
    "print \"access number is \",access_num"
   ]
  },
  {
   "cell_type": "markdown",
   "metadata": {},
   "source": [
    "##### Transfer size: (T=full,Y=5,X=5)"
   ]
  },
  {
   "cell_type": "code",
   "execution_count": null,
   "metadata": {
    "collapsed": false
   },
   "outputs": [],
   "source": [
    "# Specify the transfer size along each dimension.\n",
    "tblk_size=len(t)\n",
    "yblk_size=5\n",
    "xblk_size=5\n",
    "\n",
    "# Count the total number of accessing.\n",
    "access_num=0\n",
    "\n",
    "# Read the whole variable data in multiple read operations.\n",
    "t_start = time.clock() \n",
    "for it in range(len(t)/tblk_size):\n",
    "    itbeg=it*tblk_size\n",
    "    for iy in range(len(y)/yblk_size):\n",
    "        iybeg=iy*yblk_size\n",
    "        for ix in range(len(x)/xblk_size):\n",
    "            ixbeg=ix*xblk_size\n",
    "            band_subset = band[itbeg:itbeg+tblk_size,iybeg:iybeg+yblk_size,ixbeg:ixbeg+xblk_size]\n",
    "            access_num+=1\n",
    "t_end = time.clock() \n",
    "print \"elapsed time is \",(t_end-t_start),\"Sec.\"\n",
    "print \"access number is \",access_num"
   ]
  },
  {
   "cell_type": "markdown",
   "metadata": {},
   "source": [
    "##### Transfer size: (T=full,Y=1,X=1)"
   ]
  },
  {
   "cell_type": "code",
   "execution_count": null,
   "metadata": {
    "collapsed": false
   },
   "outputs": [],
   "source": [
    "# Specify the transfer size along each dimension.\n",
    "tblk_size=len(t)\n",
    "yblk_size=1\n",
    "xblk_size=1\n",
    "\n",
    "# Count the total number of accessing.\n",
    "access_num=0\n",
    "\n",
    "# Read the whole variable data in multiple read operations.\n",
    "t_start = time.clock() \n",
    "for it in range(len(t)/tblk_size):\n",
    "    itbeg=it*tblk_size\n",
    "    for iy in range(len(y)/yblk_size):\n",
    "        iybeg=iy*yblk_size\n",
    "        for ix in range(len(x)/xblk_size):\n",
    "            ixbeg=ix*xblk_size\n",
    "            band_subset = band[itbeg:itbeg+tblk_size,iybeg:iybeg+yblk_size,ixbeg:ixbeg+xblk_size]\n",
    "            access_num+=1\n",
    "t_end = time.clock() \n",
    "print \"elapsed time is \",(t_end-t_start),\"Sec.\"\n",
    "print \"access number is \",access_num"
   ]
  },
  {
   "cell_type": "markdown",
   "metadata": {},
   "source": [
    "<p> For non-contiguous IO, number of disk accesses that make I/O slow, not the number of values read. </p> "
   ]
  },
  {
   "cell_type": "markdown",
   "metadata": {},
   "source": [
    "#### TYX:Block Access to access all data"
   ]
  },
  {
   "cell_type": "markdown",
   "metadata": {},
   "source": [
    "##### Transfer size: (T=100,Y=10,X=10)"
   ]
  },
  {
   "cell_type": "code",
   "execution_count": null,
   "metadata": {
    "collapsed": false
   },
   "outputs": [],
   "source": [
    "# Specify the transfer size along each dimension.\n",
    "tblk_size=100\n",
    "yblk_size=10\n",
    "xblk_size=10\n",
    "\n",
    "# Count the total number of accessing.\n",
    "access_num=0\n",
    "\n",
    "# Read the whole variable data in multiple read operations.\n",
    "t_start = time.clock() \n",
    "for it in range(len(t)/tblk_size):\n",
    "    itbeg=it*tblk_size\n",
    "    for iy in range(len(y)/yblk_size):\n",
    "        iybeg=iy*yblk_size\n",
    "        for ix in range(len(x)/xblk_size):\n",
    "            ixbeg=ix*xblk_size\n",
    "            band_subset = band[itbeg:itbeg+tblk_size,iybeg:iybeg+yblk_size,ixbeg:ixbeg+xblk_size]\n",
    "            access_num+=1\n",
    "t_end = time.clock() \n",
    "print \"elapsed time is \",(t_end-t_start),\"Sec.\"\n",
    "print \"access number is \",access_num"
   ]
  },
  {
   "cell_type": "markdown",
   "metadata": {},
   "source": [
    "#### YXT: Create contiguous storage layout in the order of (y,x,t) to accelarate the time series access"
   ]
  },
  {
   "cell_type": "markdown",
   "metadata": {},
   "source": [
    "<p> If we instead want the time series to be quick, we can reorganize the data so x or y is the most slowly varying dimension and time varies fastest, resulting in fast time-series access and slow spatial access. In either case, the slow access is so slow that it makes the data essentially inaccessible for all practical purposes, e.g. in analysis or visualization. <p>"
   ]
  },
  {
   "cell_type": "code",
   "execution_count": null,
   "metadata": {
    "collapsed": false
   },
   "outputs": [],
   "source": [
    "# Create the variable along (y,x,t)\n",
    "f=create_file(y,'y',x,'x',t,'t',src_data,'band')"
   ]
  },
  {
   "cell_type": "code",
   "execution_count": null,
   "metadata": {
    "collapsed": false
   },
   "outputs": [],
   "source": [
    "view_prt(f.name,'band')"
   ]
  },
  {
   "cell_type": "code",
   "execution_count": null,
   "metadata": {
    "collapsed": false
   },
   "outputs": [],
   "source": [
    "band=link_var(f.name,'band')"
   ]
  },
  {
   "cell_type": "markdown",
   "metadata": {},
   "source": [
    "#### YXT: Full Access if we have large enough memory"
   ]
  },
  {
   "cell_type": "code",
   "execution_count": null,
   "metadata": {
    "collapsed": false,
    "scrolled": true
   },
   "outputs": [],
   "source": [
    "#%%time\n",
    "t_start = time.clock() \n",
    "band_subset = band[:,:,:]\n",
    "t_end = time.clock() \n",
    "print \"elapsed time is \",(t_end-t_start),\"Sec.\""
   ]
  },
  {
   "cell_type": "markdown",
   "metadata": {},
   "source": [
    "#### YXT: Time Access to read all data"
   ]
  },
  {
   "cell_type": "markdown",
   "metadata": {},
   "source": [
    "##### Transfer size: (Y=1,X=1,T=full)"
   ]
  },
  {
   "cell_type": "code",
   "execution_count": null,
   "metadata": {
    "collapsed": false
   },
   "outputs": [],
   "source": [
    "# Specify the transfer size along each dimension.\n",
    "yblk_size=1\n",
    "xblk_size=1\n",
    "tblk_size=len(t)\n",
    "\n",
    "# Count the total number of accessing.\n",
    "access_num=0\n",
    "\n",
    "# Read the whole variable data in multiple read operations.\n",
    "t_start = time.clock() \n",
    "for iy in range(len(y)/yblk_size):\n",
    "    iybeg=iy*yblk_size\n",
    "    for ix in range(len(x)/xblk_size):\n",
    "        ixbeg=ix*xblk_size\n",
    "        for it in range(len(t)/tblk_size):\n",
    "            itbeg=it*tblk_size\n",
    "            band_subset = band[iybeg:iybeg+yblk_size,ixbeg:ixbeg+xblk_size,itbeg:itbeg+tblk_size]\n",
    "            access_num+=1\n",
    "t_end = time.clock() \n",
    "print \"elapsed time is \",(t_end-t_start),\"Sec.\"\n",
    "print \"access number is \",access_num"
   ]
  },
  {
   "cell_type": "markdown",
   "metadata": {},
   "source": [
    "#### YXT: Spatial access to read all data"
   ]
  },
  {
   "cell_type": "markdown",
   "metadata": {},
   "source": [
    "##### Transfer size: (Y=full,X=full,T=1)"
   ]
  },
  {
   "cell_type": "code",
   "execution_count": null,
   "metadata": {
    "collapsed": false
   },
   "outputs": [],
   "source": [
    "# Specify the transfer size along each dimension.\n",
    "yblk_size=len(x)\n",
    "xblk_size=len(y)\n",
    "tblk_size=1\n",
    "\n",
    "# Count the total number of accessing.\n",
    "access_num=0\n",
    "\n",
    "# Read the whole variable data in multiple read operations.\n",
    "t_start = time.clock() \n",
    "for iy in range(len(y)/yblk_size):\n",
    "    iybeg=iy*yblk_size\n",
    "    for ix in range(len(x)/xblk_size):\n",
    "        ixbeg=ix*xblk_size\n",
    "        for it in range(len(t)/tblk_size):\n",
    "            itbeg=it*tblk_size\n",
    "            band_subset = band[iybeg:iybeg+yblk_size,ixbeg:ixbeg+xblk_size,itbeg:itbeg+tblk_size]\n",
    "            access_num+=1\n",
    "t_end = time.clock() \n",
    "print \"elapsed time is \",(t_end-t_start),\"Sec.\"\n",
    "print \"access number is \",access_num"
   ]
  },
  {
   "cell_type": "markdown",
   "metadata": {},
   "source": [
    "### Storage layout: chunking"
   ]
  },
  {
   "cell_type": "markdown",
   "metadata": {},
   "source": [
    "<p> A better solution is the use of chunking, storing multidimensional data in multi-dimensional rectangular chunks to speed up slow accesses at the cost of slowing down fast accesses. Programs that access chunked data can be oblivious to whether or how chunking is used. <p>"
   ]
  },
  {
   "cell_type": "markdown",
   "metadata": {},
   "source": [
    "<img src=\"images/chunking.png\" alt=\"Drawing\" style=\"width: 600px;\"/>|"
   ]
  },
  {
   "cell_type": "markdown",
   "metadata": {},
   "source": [
    "Let's consider these selections"
   ]
  },
  {
   "cell_type": "markdown",
   "metadata": {},
   "source": [
    "<img src=\"images/contiguous_seek.png\" alt=\"Drawing\" style=\"width: 400px;\"/>\n",
    "If contiguous: 2 seeks\n",
    "If chunked: 10 seeks"
   ]
  },
  {
   "cell_type": "markdown",
   "metadata": {},
   "source": [
    "<img src=\"images/chunk_seek.png\" alt=\"Drawing\" style=\"width: 400px;\"/>\n",
    "if contiguous: 16 seeks\n",
    "if chunked: 4 seeks"
   ]
  },
  {
   "cell_type": "markdown",
   "metadata": {},
   "source": [
    "<p> For 2-dimensional data, we could support equally frequent access by either rows or columns by chunking the data into rectangular chunks (or tiles) so that reading a row requires the same number of disk accesses as reading a column. \n",
    "Note each chunk is a disk block that must be read completely to access any of its data values. An optimum solution is to make the chunks similar in shape to the entire array, so that the same number of chunks are required to read an entire row or an entire column. </p>"
   ]
  },
  {
   "cell_type": "markdown",
   "metadata": {},
   "source": [
    "The appropriate size of chunking depends on access patterns and hardware itself, like disk cache sizes, etc. When writing or reading, try to use hyperslab selections that coincide with chunk boundaries.\n",
    "\n",
    "The process of picking a chunk shape is a trade-off between the following constraints:\n",
    "\n",
    "<ul>\n",
    "<li> Larger chunks for a given dataset size reduce the size of the chunk B-tree, making it faster to find and load chunks. </li>\n",
    "<li> Since chunks are all or nothing (reading a portion loads the entire chunk), larger chunks also increase the chance that youâll read data into memory you wonât use. </li>\n",
    "<li> Chunk cache can only hold a finite number of chunks. Large chunk can not fit into the chunk cache. Entire chunk has to be in memory and may cause OS to page memory to disk, slowing down the entire system. </li>\n",
    "<li> Small chunks may create large amount of metadata to fill the disk space and extra time will be spent to look up each chunk. More IO operations will be invloved as each chunk is stored independently. A good rule of thumb for most datasets is to keep chunks above 10KiB or so. </li>\n",
    "</ul>"
   ]
  },
  {
   "cell_type": "markdown",
   "metadata": {},
   "source": [
    "<p>When writing or reading, try to use hyperslab selections that coincide with chunk boundaries.</p>"
   ]
  },
  {
   "cell_type": "code",
   "execution_count": null,
   "metadata": {
    "collapsed": false
   },
   "outputs": [],
   "source": [
    "# Specify the transfer size along each dimension\n",
    "chunk_number=20\n",
    "\n",
    "# Create the chunk shape. Make the number of chunks for z\n",
    "chunk_size = (len(t)/(chunk_number*chunk_number),len(y)/chunk_number,len(x)/chunk_number)\n",
    "\n",
    "# Create a chunked NetCDF4 file\n",
    "f=create_file(t,'t',y,'y',x,'x',src_data,'band',chunksizes=chunk_size)"
   ]
  },
  {
   "cell_type": "code",
   "execution_count": null,
   "metadata": {
    "collapsed": false
   },
   "outputs": [],
   "source": [
    "view_prt(f.name,'band')"
   ]
  },
  {
   "cell_type": "markdown",
   "metadata": {},
   "source": [
    "## TYX ordering"
   ]
  },
  {
   "cell_type": "code",
   "execution_count": null,
   "metadata": {
    "collapsed": true
   },
   "outputs": [],
   "source": [
    "band=link_var(f.name,'band')"
   ]
  },
  {
   "cell_type": "markdown",
   "metadata": {},
   "source": [
    "#### TYX: Spatial Access"
   ]
  },
  {
   "cell_type": "code",
   "execution_count": null,
   "metadata": {
    "collapsed": false
   },
   "outputs": [],
   "source": [
    "# Specify the transfer size along each dimension.\n",
    "tblk_size=1\n",
    "yblk_size=len(y)\n",
    "xblk_size=len(x)\n",
    "\n",
    "# Count the total number of accessing.\n",
    "access_num=0\n",
    "\n",
    "# Read the whole variable data in multiple read operations.\n",
    "t_start = time.clock() \n",
    "for it in range(len(t)/tblk_size):\n",
    "    itbeg=it*tblk_size\n",
    "    for iy in range(len(y)/yblk_size):\n",
    "        iybeg=iy*yblk_size\n",
    "        for ix in range(len(x)/xblk_size):\n",
    "            ixbeg=ix*xblk_size\n",
    "            band_subset = band[itbeg:itbeg+tblk_size,iybeg:iybeg+yblk_size,ixbeg:ixbeg+xblk_size]\n",
    "            access_num+=1\n",
    "t_end = time.clock() \n",
    "\n",
    "print \"elapsed time is \",(t_end-t_start),\"Sec.\"\n",
    "print \"access number is \",access_num"
   ]
  },
  {
   "cell_type": "markdown",
   "metadata": {},
   "source": [
    "#### TYX:Time Access"
   ]
  },
  {
   "cell_type": "code",
   "execution_count": null,
   "metadata": {
    "collapsed": false
   },
   "outputs": [],
   "source": [
    "# Specify the transfer size along each dimension.\n",
    "tblk_size=len(t)\n",
    "yblk_size=1\n",
    "xblk_size=1\n",
    "\n",
    "# Count the total number of accessing.\n",
    "access_num=0\n",
    "\n",
    "# Read the whole variable data in multiple read operations.\n",
    "t_start = time.clock() \n",
    "for it in range(len(t)/tblk_size):\n",
    "    itbeg=it*tblk_size\n",
    "    for iy in range(len(y)/yblk_size):\n",
    "        iybeg=iy*yblk_size\n",
    "        for ix in range(len(x)/xblk_size):\n",
    "            ixbeg=ix*xblk_size\n",
    "            band_subset = band[itbeg:itbeg+tblk_size,iybeg:iybeg+yblk_size,ixbeg:ixbeg+xblk_size]\n",
    "            access_num+=1\n",
    "t_end = time.clock() \n",
    "print \"elapsed time is \",(t_end-t_start),\"Sec.\"\n",
    "print \"access number is \",access_num"
   ]
  },
  {
   "cell_type": "markdown",
   "metadata": {},
   "source": [
    "#### TYX:Block Access"
   ]
  },
  {
   "cell_type": "code",
   "execution_count": null,
   "metadata": {
    "collapsed": false
   },
   "outputs": [],
   "source": [
    "chunk_scale=20\n",
    "chunk_size = (len(t)/(chunk_scale*chunk_scale),len(y)/chunk_scale,len(x)/chunk_scale)\n",
    "f=create_file(t,'t',y,'y',x,'x',src_data,'band',chunksizes=chunk_size)\n",
    "band=link_var(f.name,'band')\n",
    "tblk=100\n",
    "yblk=25\n",
    "xblk=25\n",
    "t_start = time.clock() \n",
    "for it in range(len(t)/tblk):\n",
    "    itbeg=it*tblk\n",
    "    for iy in range(len(y)/yblk):\n",
    "        iybeg=iy*yblk\n",
    "        for ix in range(len(x)/xblk):\n",
    "            ixbeg=ix*xblk\n",
    "            band_subset = band[itbeg:itbeg+tblk-1,iybeg:iybeg+yblk-1,ixbeg:ixbeg+xblk-1]\n",
    "t_end = time.clock() \n",
    "print \"elapsed time is \",(t_end-t_start),\"Sec.\""
   ]
  },
  {
   "cell_type": "markdown",
   "metadata": {},
   "source": [
    "#### TYX: Block access on matched chunk layout"
   ]
  },
  {
   "cell_type": "code",
   "execution_count": null,
   "metadata": {
    "collapsed": false
   },
   "outputs": [],
   "source": [
    "tblk=100\n",
    "yblk=25\n",
    "xblk=25\n",
    "chunk_size = [tblk,yblk,xblk]\n",
    "f=create_file(t,'t',y,'y',x,'x',src_data,'band',chunksizes=chunk_size)\n",
    "band=link_var(f.name,'band')\n",
    "t_start = time.clock() \n",
    "for it in range(len(t)/tblk):\n",
    "    itbeg=it*tblk\n",
    "    for iy in range(len(y)/yblk):\n",
    "        iybeg=iy*yblk\n",
    "        for ix in range(len(x)/xblk):\n",
    "            ixbeg=ix*xblk\n",
    "#            print itbeg,iybeg,ixbeg\n",
    "            band_subset = band[itbeg:itbeg+tblk-1,iybeg:iybeg+yblk-1,ixbeg:ixbeg+xblk-1]\n",
    "t_end = time.clock() \n",
    "print \"elapsed time is \",(t_end-t_start),\"Sec.\""
   ]
  },
  {
   "cell_type": "markdown",
   "metadata": {},
   "source": [
    "# Compression"
   ]
  },
  {
   "cell_type": "markdown",
   "metadata": {},
   "source": [
    " If the data is compressed in netCDF-4 or HDF5, it has to be chunked, because a chunk is the atomic unit of compression as well as disk access. There is no need to decompress the whole file when reading a block data."
   ]
  },
  {
   "cell_type": "markdown",
   "metadata": {},
   "source": [
    "#### Chunk scale = 20"
   ]
  },
  {
   "cell_type": "code",
   "execution_count": null,
   "metadata": {
    "collapsed": false
   },
   "outputs": [],
   "source": [
    "t,y,x,band2=get_data_src(nt=400,ny=100,nx=100)\n",
    "chunk_scale=20\n",
    "chunk_size = (len(t)/(chunk_scale*chunk_scale),len(y)/chunk_scale,len(x)/chunk_scale)\n",
    "print 'chunk size is ',chunk_size\n",
    "cmp_time_cs20=[]\n",
    "cmp_size_cs20=[]\n",
    "cmp_label_cs20=[]\n",
    "print '{:>20}{:>20}{:>20}'.format('Comp. Level','Write Time(s)', 'File Size(MB)')\n",
    "for ilevel in range(0,10):\n",
    "    start = time.clock() \n",
    "    f=create_file(t,'t',y,'y',x,'x',band2,'band2',chunksizes=chunk_size,complevel=ilevel,zlib=True)\n",
    "    elapsed = time.clock()\n",
    "    file_time = elapsed - start\n",
    "    file_size = os.path.getsize(f.name)/1048576.0\n",
    "    cmp_time_cs20.append(file_time)\n",
    "    cmp_size_cs20.append(file_size)\n",
    "    cmp_label_cs20.append(str(ilevel))\n",
    "    print '{:>20d}{:>20.2f}{:>20.2f}'.format(ilevel,file_time,file_size)"
   ]
  },
  {
   "cell_type": "markdown",
   "metadata": {},
   "source": [
    "#### Chunk scale = 10"
   ]
  },
  {
   "cell_type": "code",
   "execution_count": null,
   "metadata": {
    "collapsed": false
   },
   "outputs": [],
   "source": [
    "chunk_scale=10\n",
    "chunk_size = (len(t)/(chunk_scale*chunk_scale),len(y)/chunk_scale,len(x)/chunk_scale)\n",
    "print 'chunk size is ',chunk_size\n",
    "\n",
    "cmp_time_cs10=[]\n",
    "cmp_size_cs10=[]\n",
    "cmp_label_cs10=[]\n",
    "\n",
    "print '{:>20}{:>20}{:>20}'.format('Comp. Level','Write Time(s)', 'File Size(MB)')\n",
    "for ilevel in range(0,10):\n",
    "    start = time.clock() \n",
    "    f=create_file(t,'t',y,'y',x,'x',band2,'band2',chunksizes=chunk_size,complevel=ilevel,zlib=True)\n",
    "    elapsed = time.clock()\n",
    "    file_time = elapsed - start\n",
    "    file_size = os.path.getsize(f.name)/1048576.0\n",
    "    cmp_time_cs10.append(file_time)\n",
    "    cmp_size_cs10.append(file_size)\n",
    "    cmp_label_cs10.append(str(ilevel))\n",
    "    print '{:>20d}{:>20.2f}{:>20.2f}'.format(ilevel,file_time,file_size)"
   ]
  },
  {
   "cell_type": "markdown",
   "metadata": {},
   "source": [
    "#### Chunk scale = 5"
   ]
  },
  {
   "cell_type": "code",
   "execution_count": null,
   "metadata": {
    "collapsed": false
   },
   "outputs": [],
   "source": [
    "chunk_scale=5\n",
    "chunk_size = (len(t)/(chunk_scale*chunk_scale),len(y)/chunk_scale,len(x)/chunk_scale)\n",
    "print 'chunk size is ',chunk_size\n",
    "cmp_time_cs05=[]\n",
    "cmp_size_cs05=[]\n",
    "cmp_label_cs05=[]\n",
    "print '{:>20}{:>20}{:>20}'.format('Comp. Level','Write Time(s)', 'File Size(MB)')\n",
    "for ilevel in range(0,10):\n",
    "    start = time.clock() \n",
    "    f=create_file(t,'t',y,'y',x,'x',band2,'band2',chunksizes=chunk_size,complevel=ilevel,zlib=True)\n",
    "    elapsed = time.clock()\n",
    "    file_time = elapsed - start\n",
    "    file_size = os.path.getsize(f.name)/1048576.0\n",
    "    cmp_time_cs05.append(file_time)\n",
    "    cmp_size_cs05.append(file_size)\n",
    "    cmp_label_cs05.append(str(ilevel))\n",
    "    print '{:>20d}{:>20.2f}{:>20.2f}'.format(ilevel,file_time,file_size)"
   ]
  },
  {
   "cell_type": "code",
   "execution_count": null,
   "metadata": {
    "collapsed": false
   },
   "outputs": [],
   "source": [
    "%matplotlib inline  \n",
    "fig, ax = plt.subplots()\n",
    "ax.plot(cmp_time_cs20, cmp_size_cs20,'.-',label='chunk scale=20')\n",
    "ax.plot(cmp_time_cs10, cmp_size_cs10,'.-',label=\"chunk scale=10\")\n",
    "ax.plot(cmp_time_cs05, cmp_size_cs05,'.-',label=\"chunk scale= 5\")\n",
    "\n",
    "plt.title('Compression Benchmark for 3D Random Data')\n",
    "ax.set_ylabel('File Size (MiB)')\n",
    "ax.set_xlabel('Compression Time (s)')\n",
    "ax.legend(loc='best')\n",
    "plt.show()"
   ]
  },
  {
   "cell_type": "markdown",
   "metadata": {},
   "source": [
    "The Landsat compression Benchmak is shown below"
   ]
  },
  {
   "cell_type": "markdown",
   "metadata": {},
   "source": [
    "<img src=\"images/compress_time.png\" alt=\"Drawing\" style=\"width: 400px;\"/>"
   ]
  },
  {
   "cell_type": "code",
   "execution_count": null,
   "metadata": {
    "collapsed": false
   },
   "outputs": [],
   "source": [
    "view_prt(f.name,'band2')"
   ]
  },
  {
   "cell_type": "markdown",
   "metadata": {},
   "source": [
    "#### Effect of shuffle"
   ]
  },
  {
   "cell_type": "markdown",
   "metadata": {},
   "source": [
    "The SHUFFLE filter repacks the data in the chunk so that all the first bytes of the integers\n",
    "are together, then all the second bytes, and so on. For dictionary-based compressors like GZIP and LZF, it is much more efficient to compress\n",
    "long runs of identical values, like all the zero values collected from the first two\n",
    "bytes of the dataset integers. There are also savings from the repeated elements at the\n",
    "third byte position. Only the fourth byte position looks really hard to compress."
   ]
  },
  {
   "cell_type": "code",
   "execution_count": null,
   "metadata": {
    "collapsed": false
   },
   "outputs": [],
   "source": [
    "chunk_scale=10\n",
    "chunk_size = (len(t)/(chunk_scale*chunk_scale),len(y)/chunk_scale,len(x)/chunk_scale)\n",
    "print 'chunk size is ',chunk_size\n",
    "\n",
    "cmp_time_nosuf=[]\n",
    "cmp_size_nosuf=[]\n",
    "cmp_label_nosuf=[]\n",
    "\n",
    "print '{:>20}{:>20}{:>20}'.format('Comp. Level','Write Time(s)', 'File Size(MB)')\n",
    "for ilevel in range(0,10):\n",
    "    start = time.clock() \n",
    "    f=create_file(t,'t',y,'y',x,'x',band2,'band2',chunksizes=chunk_size,complevel=ilevel,zlib=True,shuffle=False)\n",
    "    elapsed = time.clock()\n",
    "    file_time = elapsed - start\n",
    "    file_size = os.path.getsize(f.name)/1048576.0\n",
    "    cmp_time_nosuf.append(file_time)\n",
    "    cmp_size_nosuf.append(file_size)\n",
    "    cmp_label_nosuf.append(str(ilevel))\n",
    "    print '{:>20d}{:>20.2f}{:>20.2f}'.format(ilevel,file_time,file_size)"
   ]
  },
  {
   "cell_type": "code",
   "execution_count": null,
   "metadata": {
    "collapsed": true
   },
   "outputs": [],
   "source": [
    "view_prt(f.name,'band2')"
   ]
  },
  {
   "cell_type": "code",
   "execution_count": null,
   "metadata": {
    "collapsed": false
   },
   "outputs": [],
   "source": [
    "%matplotlib inline  \n",
    "fig, ax = plt.subplots()\n",
    "ax.plot(cmp_time_cs10, cmp_size_cs10,'.-',label='shuffle')\n",
    "ax.plot(cmp_time_nosuf, cmp_size_nosuf,'.-',label='no-shuffle')\n",
    "plt.title('Compression Benchmark for 3D Random Data')\n",
    "plt.legend(loc='best')\n",
    "ax.set_ylabel('File Size (MiB)')\n",
    "ax.set_xlabel('Compression Time (s)')\n",
    "plt.show()"
   ]
  },
  {
   "cell_type": "markdown",
   "metadata": {},
   "source": [
    "# References"
   ]
  },
  {
   "cell_type": "markdown",
   "metadata": {
    "collapsed": true
   },
   "source": [
    "<ul>\n",
    "<li> 'Parallel HDF5',Quincey Koziol, The HDF group, 2015.</li>\n",
    "<li> 'Portable Parallel I/O: Handling large datasets in heterogeneous parallel environments', Michael Stephan, JULICH, 2013.</li>\n",
    "<li> 'Python and HDF5',Andrew Collette, 2014.</li>\n",
    "<li> 'Chunking Data: Why it Matters', http://www.unidata.ucar.edu/blogs/developer/entry/chunking_data_why_it_matters, 2013 </li>\n",
    "</ul>"
   ]
  }
 ],
 "metadata": {
  "anaconda-cloud": {},
  "kernelspec": {
   "display_name": "Python 2",
   "language": "python",
   "name": "python2"
  },
  "language_info": {
   "codemirror_mode": {
    "name": "ipython",
    "version": 2
   },
   "file_extension": ".py",
   "mimetype": "text/x-python",
   "name": "python",
   "nbconvert_exporter": "python",
   "pygments_lexer": "ipython2",
   "version": "2.7.11"
  }
 },
 "nbformat": 4,
 "nbformat_minor": 0
}
